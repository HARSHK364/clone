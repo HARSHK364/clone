{
 "cells": [
  {
   "cell_type": "code",
   "execution_count": 2,
   "id": "4939fae9",
   "metadata": {},
   "outputs": [
    {
     "data": {
      "text/plain": [
       "'Shashank'"
      ]
     },
     "execution_count": 2,
     "metadata": {},
     "output_type": "execute_result"
    }
   ],
   "source": [
    "10\n",
    "5+4j\n",
    "True\n",
    "100.45454\n",
    "\"Shashank\""
   ]
  },
  {
   "cell_type": "code",
   "execution_count": 5,
   "id": "6af9f851",
   "metadata": {},
   "outputs": [
    {
     "name": "stdout",
     "output_type": "stream",
     "text": [
      "10IITI20++++++++++++++++++++++++++++++++++++++++++30\n"
     ]
    }
   ],
   "source": [
    "print(10,end=\"IITI\")\n",
    "print(20,end=\"++++++++++++++++++++++++++++++++++++++++++\")\n",
    "print(30)"
   ]
  },
  {
   "cell_type": "code",
   "execution_count": 6,
   "id": "e3552602",
   "metadata": {
    "collapsed": true
   },
   "outputs": [
    {
     "name": "stdout",
     "output_type": "stream",
     "text": [
      "Help on built-in function print in module builtins:\n",
      "\n",
      "print(*args, sep=' ', end='\\n', file=None, flush=False)\n",
      "    Prints the values to a stream, or to sys.stdout by default.\n",
      "    \n",
      "    sep\n",
      "      string inserted between values, default a space.\n",
      "    end\n",
      "      string appended after the last value, default a newline.\n",
      "    file\n",
      "      a file-like object (stream); defaults to the current sys.stdout.\n",
      "    flush\n",
      "      whether to forcibly flush the stream.\n",
      "\n"
     ]
    }
   ],
   "source": [
    "help(print)"
   ]
  },
  {
   "cell_type": "code",
   "execution_count": 8,
   "id": "066d3a4a",
   "metadata": {},
   "outputs": [
    {
     "name": "stdout",
     "output_type": "stream",
     "text": [
      "10/20/30\n"
     ]
    }
   ],
   "source": [
    "print(10,20,30,sep=\"/\")"
   ]
  },
  {
   "cell_type": "code",
   "execution_count": 9,
   "id": "b2a60e9f",
   "metadata": {
    "collapsed": true
   },
   "outputs": [
    {
     "name": "stdout",
     "output_type": "stream",
     "text": [
      "['ArithmeticError', 'AssertionError', 'AttributeError', 'BaseException', 'BaseExceptionGroup', 'BlockingIOError', 'BrokenPipeError', 'BufferError', 'BytesWarning', 'ChildProcessError', 'ConnectionAbortedError', 'ConnectionError', 'ConnectionRefusedError', 'ConnectionResetError', 'DeprecationWarning', 'EOFError', 'Ellipsis', 'EncodingWarning', 'EnvironmentError', 'Exception', 'ExceptionGroup', 'False', 'FileExistsError', 'FileNotFoundError', 'FloatingPointError', 'FutureWarning', 'GeneratorExit', 'IOError', 'ImportError', 'ImportWarning', 'IndentationError', 'IndexError', 'InterruptedError', 'IsADirectoryError', 'KeyError', 'KeyboardInterrupt', 'LookupError', 'MemoryError', 'ModuleNotFoundError', 'NameError', 'None', 'NotADirectoryError', 'NotImplemented', 'NotImplementedError', 'OSError', 'OverflowError', 'PendingDeprecationWarning', 'PermissionError', 'ProcessLookupError', 'RecursionError', 'ReferenceError', 'ResourceWarning', 'RuntimeError', 'RuntimeWarning', 'StopAsyncIteration', 'StopIteration', 'SyntaxError', 'SyntaxWarning', 'SystemError', 'SystemExit', 'TabError', 'TimeoutError', 'True', 'TypeError', 'UnboundLocalError', 'UnicodeDecodeError', 'UnicodeEncodeError', 'UnicodeError', 'UnicodeTranslateError', 'UnicodeWarning', 'UserWarning', 'ValueError', 'Warning', 'WindowsError', 'ZeroDivisionError', '__IPYTHON__', '__build_class__', '__debug__', '__doc__', '__import__', '__loader__', '__name__', '__package__', '__spec__', 'abs', 'aiter', 'all', 'anext', 'any', 'ascii', 'bin', 'bool', 'breakpoint', 'bytearray', 'bytes', 'callable', 'chr', 'classmethod', 'compile', 'complex', 'copyright', 'credits', 'delattr', 'dict', 'dir', 'display', 'divmod', 'enumerate', 'eval', 'exec', 'execfile', 'filter', 'float', 'format', 'frozenset', 'get_ipython', 'getattr', 'globals', 'hasattr', 'hash', 'help', 'hex', 'id', 'input', 'int', 'isinstance', 'issubclass', 'iter', 'len', 'license', 'list', 'locals', 'map', 'max', 'memoryview', 'min', 'next', 'object', 'oct', 'open', 'ord', 'pow', 'print', 'property', 'range', 'repr', 'reversed', 'round', 'runfile', 'set', 'setattr', 'slice', 'sorted', 'staticmethod', 'str', 'sum', 'super', 'tuple', 'type', 'vars', 'zip']\n"
     ]
    }
   ],
   "source": [
    "print(dir(__builtins__))"
   ]
  },
  {
   "cell_type": "code",
   "execution_count": 13,
   "id": "027e19ee",
   "metadata": {},
   "outputs": [
    {
     "data": {
      "text/plain": [
       "'10010101011111111'"
      ]
     },
     "execution_count": 13,
     "metadata": {},
     "output_type": "execute_result"
    }
   ],
   "source": [
    "bin(76543)[2:]"
   ]
  },
  {
   "cell_type": "code",
   "execution_count": 11,
   "id": "a575254e",
   "metadata": {},
   "outputs": [
    {
     "data": {
      "text/plain": [
       "'0o203757'"
      ]
     },
     "execution_count": 11,
     "metadata": {},
     "output_type": "execute_result"
    }
   ],
   "source": [
    "oct(67567)"
   ]
  },
  {
   "cell_type": "code",
   "execution_count": 12,
   "id": "11e04761",
   "metadata": {},
   "outputs": [
    {
     "data": {
      "text/plain": [
       "'0x1560f'"
      ]
     },
     "execution_count": 12,
     "metadata": {},
     "output_type": "execute_result"
    }
   ],
   "source": [
    "hex(87567)"
   ]
  },
  {
   "cell_type": "code",
   "execution_count": 16,
   "id": "47569e4c",
   "metadata": {},
   "outputs": [
    {
     "data": {
      "text/plain": [
       "'+'"
      ]
     },
     "execution_count": 16,
     "metadata": {},
     "output_type": "execute_result"
    }
   ],
   "source": [
    "chr(43)"
   ]
  },
  {
   "cell_type": "code",
   "execution_count": 17,
   "id": "70faa73c",
   "metadata": {},
   "outputs": [
    {
     "data": {
      "text/plain": [
       "69"
      ]
     },
     "execution_count": 17,
     "metadata": {},
     "output_type": "execute_result"
    }
   ],
   "source": [
    "ord('E')"
   ]
  },
  {
   "cell_type": "code",
   "execution_count": 18,
   "id": "95df419a",
   "metadata": {},
   "outputs": [
    {
     "data": {
      "text/plain": [
       "['I', 'I', 'T', ' ', 'I', 'N', 'D', 'O', 'R', 'E']"
      ]
     },
     "execution_count": 18,
     "metadata": {},
     "output_type": "execute_result"
    }
   ],
   "source": [
    "list(\"IIT INDORE\")"
   ]
  },
  {
   "cell_type": "code",
   "execution_count": 19,
   "id": "3a1204e3",
   "metadata": {},
   "outputs": [],
   "source": [
    "import calendar"
   ]
  },
  {
   "cell_type": "code",
   "execution_count": 22,
   "id": "344ad138",
   "metadata": {},
   "outputs": [
    {
     "data": {
      "text/plain": [
       "['Mon', 'Tue', 'Wed', 'Thu', 'Fri', 'Sat', 'Sun']"
      ]
     },
     "execution_count": 22,
     "metadata": {},
     "output_type": "execute_result"
    }
   ],
   "source": [
    "list(calendar.day_abbr)"
   ]
  },
  {
   "cell_type": "code",
   "execution_count": 24,
   "id": "bd486cdb",
   "metadata": {},
   "outputs": [
    {
     "name": "stdout",
     "output_type": "stream",
     "text": [
      "Monday Tuesday Wednesday Thursday Friday Saturday Sunday "
     ]
    }
   ],
   "source": [
    "for i in calendar.day_name:\n",
    "    print(i,end=\" \")"
   ]
  },
  {
   "cell_type": "code",
   "execution_count": 26,
   "id": "2a68721c",
   "metadata": {
    "collapsed": true
   },
   "outputs": [
    {
     "name": "stdout",
     "output_type": "stream",
     "text": [
      "   September 2023\n",
      "Mo Tu We Th Fr Sa Su\n",
      "             1  2  3\n",
      " 4  5  6  7  8  9 10\n",
      "11 12 13 14 15 16 17\n",
      "18 19 20 21 22 23 24\n",
      "25 26 27 28 29 30\n",
      "\n"
     ]
    }
   ],
   "source": [
    "print(calendar.month(2023,9))"
   ]
  },
  {
   "cell_type": "code",
   "execution_count": 28,
   "id": "cba9720c",
   "metadata": {
    "collapsed": true
   },
   "outputs": [
    {
     "name": "stdout",
     "output_type": "stream",
     "text": [
      "                                  2023\n",
      "\n",
      "      January                   February                   March\n",
      "Mo Tu We Th Fr Sa Su      Mo Tu We Th Fr Sa Su      Mo Tu We Th Fr Sa Su\n",
      "                   1             1  2  3  4  5             1  2  3  4  5\n",
      " 2  3  4  5  6  7  8       6  7  8  9 10 11 12       6  7  8  9 10 11 12\n",
      " 9 10 11 12 13 14 15      13 14 15 16 17 18 19      13 14 15 16 17 18 19\n",
      "16 17 18 19 20 21 22      20 21 22 23 24 25 26      20 21 22 23 24 25 26\n",
      "23 24 25 26 27 28 29      27 28                     27 28 29 30 31\n",
      "30 31\n",
      "\n",
      "       April                      May                       June\n",
      "Mo Tu We Th Fr Sa Su      Mo Tu We Th Fr Sa Su      Mo Tu We Th Fr Sa Su\n",
      "                1  2       1  2  3  4  5  6  7                1  2  3  4\n",
      " 3  4  5  6  7  8  9       8  9 10 11 12 13 14       5  6  7  8  9 10 11\n",
      "10 11 12 13 14 15 16      15 16 17 18 19 20 21      12 13 14 15 16 17 18\n",
      "17 18 19 20 21 22 23      22 23 24 25 26 27 28      19 20 21 22 23 24 25\n",
      "24 25 26 27 28 29 30      29 30 31                  26 27 28 29 30\n",
      "\n",
      "        July                     August                  September\n",
      "Mo Tu We Th Fr Sa Su      Mo Tu We Th Fr Sa Su      Mo Tu We Th Fr Sa Su\n",
      "                1  2          1  2  3  4  5  6                   1  2  3\n",
      " 3  4  5  6  7  8  9       7  8  9 10 11 12 13       4  5  6  7  8  9 10\n",
      "10 11 12 13 14 15 16      14 15 16 17 18 19 20      11 12 13 14 15 16 17\n",
      "17 18 19 20 21 22 23      21 22 23 24 25 26 27      18 19 20 21 22 23 24\n",
      "24 25 26 27 28 29 30      28 29 30 31               25 26 27 28 29 30\n",
      "31\n",
      "\n",
      "      October                   November                  December\n",
      "Mo Tu We Th Fr Sa Su      Mo Tu We Th Fr Sa Su      Mo Tu We Th Fr Sa Su\n",
      "                   1             1  2  3  4  5                   1  2  3\n",
      " 2  3  4  5  6  7  8       6  7  8  9 10 11 12       4  5  6  7  8  9 10\n",
      " 9 10 11 12 13 14 15      13 14 15 16 17 18 19      11 12 13 14 15 16 17\n",
      "16 17 18 19 20 21 22      20 21 22 23 24 25 26      18 19 20 21 22 23 24\n",
      "23 24 25 26 27 28 29      27 28 29 30               25 26 27 28 29 30 31\n",
      "30 31\n",
      "\n"
     ]
    }
   ],
   "source": [
    "print(calendar.calendar(2023))"
   ]
  },
  {
   "cell_type": "code",
   "execution_count": 31,
   "id": "31a22d6c",
   "metadata": {},
   "outputs": [
    {
     "name": "stdout",
     "output_type": "stream",
     "text": [
      "Aaj ka lunch thoda jaldi hain\n",
      "Upvaas karo\n"
     ]
    }
   ],
   "source": [
    "if print(\"Aaj ka lunch thoda jaldi hain\"):\n",
    "    print(\"Chalo\")\n",
    "else:\n",
    "    print(\"Upvaas karo\")"
   ]
  },
  {
   "cell_type": "code",
   "execution_count": 29,
   "id": "d91815ff",
   "metadata": {},
   "outputs": [
    {
     "name": "stdout",
     "output_type": "stream",
     "text": [
      "Ye print hain\n"
     ]
    }
   ],
   "source": [
    "b = print(\"Ye print hain\")"
   ]
  },
  {
   "cell_type": "code",
   "execution_count": 30,
   "id": "1a453179",
   "metadata": {},
   "outputs": [
    {
     "name": "stdout",
     "output_type": "stream",
     "text": [
      "None\n"
     ]
    }
   ],
   "source": [
    "print(b)"
   ]
  },
  {
   "cell_type": "code",
   "execution_count": 33,
   "id": "204e98c6",
   "metadata": {
    "collapsed": true
   },
   "outputs": [
    {
     "name": "stdout",
     "output_type": "stream",
     "text": [
      "Hello\n",
      "None\n",
      "None\n",
      "None\n"
     ]
    }
   ],
   "source": [
    "print(print(print(print(\"Hello\"))))"
   ]
  },
  {
   "cell_type": "code",
   "execution_count": 34,
   "id": "ef595000",
   "metadata": {
    "collapsed": true
   },
   "outputs": [
    {
     "name": "stdout",
     "output_type": "stream",
     "text": [
      "Jilebi\n",
      "Egg\n",
      "Poha None Sev None Water\n"
     ]
    }
   ],
   "source": [
    "print(\"Poha\",print(\"Jilebi\"),\"Sev\",print(\"Egg\"),\"Water\")"
   ]
  },
  {
   "cell_type": "code",
   "execution_count": 39,
   "id": "12408d9b",
   "metadata": {
    "collapsed": true
   },
   "outputs": [
    {
     "name": "stdout",
     "output_type": "stream",
     "text": [
      "10 9 8 7 6 5 4 3 2 "
     ]
    }
   ],
   "source": [
    "for j in range(10,1,-1):\n",
    "    print(j,end=\" \")\n",
    "    j=j-5 # this line is dummy"
   ]
  },
  {
   "cell_type": "code",
   "execution_count": 44,
   "id": "e6d8514b",
   "metadata": {
    "collapsed": true
   },
   "outputs": [
    {
     "name": "stdout",
     "output_type": "stream",
     "text": [
      "5 * 1 = 5\n",
      "5 * 2 = 10\n",
      "5 * 3 = 15\n",
      "5 * 4 = 20\n",
      "5 * 5 = 25\n",
      "5 * 6 = 30\n",
      "5 * 7 = 35\n",
      "5 * 8 = 40\n",
      "5 * 9 = 45\n"
     ]
    }
   ],
   "source": [
    "for k in range(1,10):\n",
    "    #print(5,\"*\",k,\"=\",5*k)\n",
    "    print(f\"5 * {k} = {5*k}\")"
   ]
  },
  {
   "cell_type": "code",
   "execution_count": 45,
   "id": "2e7eb949",
   "metadata": {
    "collapsed": true
   },
   "outputs": [
    {
     "name": "stdout",
     "output_type": "stream",
     "text": [
      "s\n",
      "h\n",
      "a\n",
      "s\n",
      "h\n",
      "a\n",
      "n\n",
      "k\n"
     ]
    }
   ],
   "source": [
    "for i in \"shashank\":\n",
    "    print(i)"
   ]
  },
  {
   "cell_type": "code",
   "execution_count": 49,
   "id": "564b41cd",
   "metadata": {
    "collapsed": true
   },
   "outputs": [
    {
     "name": "stdout",
     "output_type": "stream",
     "text": [
      "s\n",
      "sh\n",
      "sha\n",
      "shas\n",
      "shash\n",
      "shasha\n",
      "shashan\n",
      "shashank\n"
     ]
    }
   ],
   "source": [
    "name=\"shashank\"\n",
    "for i in range(len(name)):\n",
    "    #print(i+1)\n",
    "    print(name[:i+1])"
   ]
  },
  {
   "cell_type": "code",
   "execution_count": 50,
   "id": "e007747a",
   "metadata": {},
   "outputs": [
    {
     "name": "stdout",
     "output_type": "stream",
     "text": [
      "Enter somthing100\n"
     ]
    }
   ],
   "source": [
    "p = input(\"Enter somthing\")"
   ]
  },
  {
   "cell_type": "code",
   "execution_count": 51,
   "id": "5752876e",
   "metadata": {},
   "outputs": [
    {
     "data": {
      "text/plain": [
       "'100'"
      ]
     },
     "execution_count": 51,
     "metadata": {},
     "output_type": "execute_result"
    }
   ],
   "source": [
    "p"
   ]
  },
  {
   "cell_type": "code",
   "execution_count": 52,
   "id": "83455c36",
   "metadata": {
    "collapsed": true
   },
   "outputs": [
    {
     "ename": "TypeError",
     "evalue": "can only concatenate str (not \"int\") to str",
     "output_type": "error",
     "traceback": [
      "\u001b[1;31m---------------------------------------------------------------------------\u001b[0m",
      "\u001b[1;31mTypeError\u001b[0m                                 Traceback (most recent call last)",
      "Cell \u001b[1;32mIn[52], line 1\u001b[0m\n\u001b[1;32m----> 1\u001b[0m p\u001b[38;5;241m+\u001b[39m\u001b[38;5;241m200\u001b[39m\n",
      "\u001b[1;31mTypeError\u001b[0m: can only concatenate str (not \"int\") to str"
     ]
    }
   ],
   "source": [
    "p+200"
   ]
  },
  {
   "cell_type": "code",
   "execution_count": 53,
   "id": "0e3c437f",
   "metadata": {},
   "outputs": [
    {
     "data": {
      "text/plain": [
       "'100100100100100'"
      ]
     },
     "execution_count": 53,
     "metadata": {},
     "output_type": "execute_result"
    }
   ],
   "source": [
    "p*5"
   ]
  },
  {
   "cell_type": "code",
   "execution_count": 54,
   "id": "f065fc0e",
   "metadata": {},
   "outputs": [
    {
     "name": "stdout",
     "output_type": "stream",
     "text": [
      "Enter something100\n"
     ]
    }
   ],
   "source": [
    "q =int(input(\"Enter something\"))"
   ]
  },
  {
   "cell_type": "code",
   "execution_count": 55,
   "id": "66187e04",
   "metadata": {},
   "outputs": [
    {
     "data": {
      "text/plain": [
       "100"
      ]
     },
     "execution_count": 55,
     "metadata": {},
     "output_type": "execute_result"
    }
   ],
   "source": [
    "q"
   ]
  },
  {
   "cell_type": "code",
   "execution_count": 56,
   "id": "f740cd1a",
   "metadata": {},
   "outputs": [
    {
     "data": {
      "text/plain": [
       "152"
      ]
     },
     "execution_count": 56,
     "metadata": {},
     "output_type": "execute_result"
    }
   ],
   "source": [
    "q+52"
   ]
  },
  {
   "cell_type": "code",
   "execution_count": 57,
   "id": "75758ce5",
   "metadata": {},
   "outputs": [],
   "source": [
    "#Take List as input from user"
   ]
  },
  {
   "cell_type": "code",
   "execution_count": 64,
   "id": "d741076d",
   "metadata": {},
   "outputs": [
    {
     "name": "stdout",
     "output_type": "stream",
     "text": [
      "'shashank'\n"
     ]
    }
   ],
   "source": [
    "r = eval(input())"
   ]
  },
  {
   "cell_type": "code",
   "execution_count": 61,
   "id": "d01eb958",
   "metadata": {},
   "outputs": [
    {
     "data": {
      "text/plain": [
       "{'name': 'shashank', 'dept': 'edufabrica'}"
      ]
     },
     "execution_count": 61,
     "metadata": {},
     "output_type": "execute_result"
    }
   ],
   "source": [
    "r"
   ]
  },
  {
   "cell_type": "code",
   "execution_count": 62,
   "id": "4060b192",
   "metadata": {},
   "outputs": [
    {
     "data": {
      "text/plain": [
       "15"
      ]
     },
     "execution_count": 62,
     "metadata": {},
     "output_type": "execute_result"
    }
   ],
   "source": [
    "eval(\"5+5+5\")"
   ]
  },
  {
   "cell_type": "code",
   "execution_count": 65,
   "id": "166f908d",
   "metadata": {},
   "outputs": [],
   "source": [
    "def hello():\n",
    "    print(\"This is Demo Fun\")"
   ]
  },
  {
   "cell_type": "code",
   "execution_count": 66,
   "id": "8202f516",
   "metadata": {},
   "outputs": [
    {
     "name": "stdout",
     "output_type": "stream",
     "text": [
      "This is Demo Fun\n"
     ]
    }
   ],
   "source": [
    "hello()"
   ]
  },
  {
   "cell_type": "code",
   "execution_count": 67,
   "id": "23b3f79a",
   "metadata": {
    "collapsed": true
   },
   "outputs": [
    {
     "name": "stdout",
     "output_type": "stream",
     "text": [
      "Help on function hello in module __main__:\n",
      "\n",
      "hello()\n",
      "\n"
     ]
    }
   ],
   "source": [
    "help(hello) # No Help"
   ]
  },
  {
   "cell_type": "code",
   "execution_count": 68,
   "id": "f665cc11",
   "metadata": {},
   "outputs": [],
   "source": [
    "def demo():\n",
    "    '''\n",
    "    this function is of no use\n",
    "    dont try this at home\n",
    "    Author:\n",
    "    A shashank\n",
    "    '''\n",
    "    print(\"Hi Hope u have understood\")"
   ]
  },
  {
   "cell_type": "code",
   "execution_count": 69,
   "id": "99e1be7c",
   "metadata": {
    "collapsed": true
   },
   "outputs": [
    {
     "name": "stdout",
     "output_type": "stream",
     "text": [
      "Help on function demo in module __main__:\n",
      "\n",
      "demo()\n",
      "    this function is of no use\n",
      "    dont try this at home\n",
      "    Author:\n",
      "    A shashank\n",
      "\n"
     ]
    }
   ],
   "source": [
    "help(demo)"
   ]
  },
  {
   "cell_type": "code",
   "execution_count": 70,
   "id": "d750ba50",
   "metadata": {},
   "outputs": [
    {
     "name": "stdout",
     "output_type": "stream",
     "text": [
      "Hi Hope u have understood\n"
     ]
    }
   ],
   "source": [
    "demo()"
   ]
  },
  {
   "cell_type": "code",
   "execution_count": 71,
   "id": "278e3b4b",
   "metadata": {},
   "outputs": [],
   "source": [
    "def arth(a,b):\n",
    "    return a+b,a-b,a*b,a/b,a%b"
   ]
  },
  {
   "cell_type": "code",
   "execution_count": 74,
   "id": "1d6aef78",
   "metadata": {},
   "outputs": [
    {
     "data": {
      "text/plain": [
       "(51, 39, 270, 7.5, 3)"
      ]
     },
     "execution_count": 74,
     "metadata": {},
     "output_type": "execute_result"
    }
   ],
   "source": [
    "arth(45,6)"
   ]
  },
  {
   "cell_type": "code",
   "execution_count": 75,
   "id": "eb3b3d1b",
   "metadata": {},
   "outputs": [],
   "source": [
    "add,sub,mul,div,mod=arth(10,3)"
   ]
  },
  {
   "cell_type": "code",
   "execution_count": 76,
   "id": "8c39a2b0",
   "metadata": {},
   "outputs": [
    {
     "data": {
      "text/plain": [
       "13"
      ]
     },
     "execution_count": 76,
     "metadata": {},
     "output_type": "execute_result"
    }
   ],
   "source": [
    "add"
   ]
  },
  {
   "cell_type": "code",
   "execution_count": 77,
   "id": "ed08963f",
   "metadata": {},
   "outputs": [
    {
     "data": {
      "text/plain": [
       "7"
      ]
     },
     "execution_count": 77,
     "metadata": {},
     "output_type": "execute_result"
    }
   ],
   "source": [
    "sub"
   ]
  },
  {
   "cell_type": "code",
   "execution_count": null,
   "id": "f6586845",
   "metadata": {},
   "outputs": [],
   "source": []
  }
 ],
 "metadata": {
  "kernelspec": {
   "display_name": "Python 3 (ipykernel)",
   "language": "python",
   "name": "python3"
  },
  "language_info": {
   "codemirror_mode": {
    "name": "ipython",
    "version": 3
   },
   "file_extension": ".py",
   "mimetype": "text/x-python",
   "name": "python",
   "nbconvert_exporter": "python",
   "pygments_lexer": "ipython3",
   "version": "3.11.4"
  }
 },
 "nbformat": 4,
 "nbformat_minor": 5
}

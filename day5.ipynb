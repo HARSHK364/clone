{
 "cells": [
  {
   "cell_type": "code",
   "execution_count": 2,
   "id": "b9637781",
   "metadata": {
    "collapsed": true
   },
   "outputs": [
    {
     "ename": "SyntaxError",
     "evalue": "invalid syntax (341811935.py, line 1)",
     "output_type": "error",
     "traceback": [
      "\u001b[1;36m  Cell \u001b[1;32mIn[2], line 1\u001b[1;36m\u001b[0m\n\u001b[1;33m    pip install scikit-learn\u001b[0m\n\u001b[1;37m        ^\u001b[0m\n\u001b[1;31mSyntaxError\u001b[0m\u001b[1;31m:\u001b[0m invalid syntax\n"
     ]
    }
   ],
   "source": []
  },
  {
   "cell_type": "code",
   "execution_count": null,
   "id": "155c4587",
   "metadata": {},
   "outputs": [],
   "source": [
    "pip install matplotlib"
   ]
  },
  {
   "cell_type": "code",
   "execution_count": 4,
   "id": "a3927078",
   "metadata": {},
   "outputs": [
    {
     "name": "stdout",
     "output_type": "stream",
     "text": [
      "Requirement already satisfied: opencv-python in c:\\users\\harsh\\anaconda3\\lib\\site-packages (4.8.0.76)Note: you may need to restart the kernel to use updated packages.\n",
      "\n",
      "Requirement already satisfied: numpy>=1.21.2 in c:\\users\\harsh\\anaconda3\\lib\\site-packages (from opencv-python) (1.24.3)\n"
     ]
    }
   ],
   "source": [
    "pip install opencv-python\n"
   ]
  },
  {
   "cell_type": "code",
   "execution_count": 5,
   "id": "25215aee",
   "metadata": {},
   "outputs": [
    {
     "name": "stdout",
     "output_type": "stream",
     "text": [
      "enter a number :5\n",
      "false\n"
     ]
    }
   ],
   "source": [
    "p=int(input(\"enter a number :\"))\n",
    "if(p>50):\n",
    "  print(\"true\")\n",
    "else:\n",
    "  print(\"false\")"
   ]
  },
  {
   "cell_type": "code",
   "execution_count": 6,
   "id": "b8bdb3a8",
   "metadata": {},
   "outputs": [
    {
     "name": "stdout",
     "output_type": "stream",
     "text": [
      "14\n",
      "44\n",
      "16\n",
      "2024\n",
      "3\n",
      "15\n"
     ]
    }
   ],
   "source": [
    "from datetime import datetime\n",
    "now=datetime.now()\n",
    "\n",
    "hour = int(now.strftime('%H'))\n",
    "print(hour)\n",
    "minute = int(now.strftime('%M'))\n",
    "print(minute)\n",
    "second = int(now.strftime('%S'))\n",
    "print(second)\n",
    "year=int(now.strftime('%Y'))\n",
    "print(year)\n",
    "month=int(now.strftime('%m'))\n",
    "print(month)\n",
    "day=int(now.strftime('%d'))\n",
    "print(day)\n"
   ]
  },
  {
   "cell_type": "code",
   "execution_count": 7,
   "id": "f8e22a4b",
   "metadata": {},
   "outputs": [
    {
     "name": "stdout",
     "output_type": "stream",
     "text": [
      "todays date is : 15-03-2024\n",
      "Good afternoon its : 14:44:20 PM\n"
     ]
    }
   ],
   "source": [
    "from datetime import datetime\n",
    "now = datetime.now()\n",
    "present_date = now.strftime(\"%d-%m-%Y\")\n",
    "print(\"todays date is :\",present_date)\n",
    "present_time = now.strftime(\"%H:%M:%S\")\n",
    "# print(present_time)\n",
    "hour = int(now.strftime(\"%H\"))\n",
    "if(18>hour>=12):\n",
    "    print(\"Good afternoon its :\",present_time,\"PM\")\n",
    "elif(hour>18):\n",
    "    print(\"Good evening its :\",present_time,\"PM\")\n",
    "elif(hour<12):\n",
    "    print(\"Good morning its :\",present_date,\"AM\")  "
   ]
  },
  {
   "cell_type": "code",
   "execution_count": 73,
   "id": "04b6108c",
   "metadata": {},
   "outputs": [
    {
     "name": "stdout",
     "output_type": "stream",
     "text": [
      "my name is harsh           how are you!\n"
     ]
    }
   ],
   "source": [
    "print(\"my name is harsh           how are you!\")"
   ]
  },
  {
   "cell_type": "code",
   "execution_count": 2,
   "id": "4419614e",
   "metadata": {},
   "outputs": [
    {
     "name": "stdout",
     "output_type": "stream",
     "text": [
      "he is a good 'boy' \n",
      " who are you\n"
     ]
    }
   ],
   "source": [
    "print(\"he is a good \\'boy' \\n who are you\")"
   ]
  },
  {
   "cell_type": "code",
   "execution_count": 9,
   "id": "868f7196",
   "metadata": {},
   "outputs": [
    {
     "name": "stdout",
     "output_type": "stream",
     "text": [
      "hey~8~9009\n",
      "harsh\n"
     ]
    }
   ],
   "source": [
    "print(\"hey\",8,9,sep=\"~\",end=\"009\\n\")\n",
    "print(\"harsh\")"
   ]
  },
  {
   "cell_type": "code",
   "execution_count": 10,
   "id": "dd864612",
   "metadata": {},
   "outputs": [
    {
     "name": "stdout",
     "output_type": "stream",
     "text": [
      "1213 \n",
      " harsh \n",
      " True\n",
      "the type of a is  <class 'int'>\n",
      "the type of b is  <class 'str'>\n",
      "the type of c is  <class 'bool'>\n"
     ]
    }
   ],
   "source": [
    "# day#6\n",
    "a=1213\n",
    "b=\"harsh\"\n",
    "c=True\n",
    "print(a,\"\\n\",b,\"\\n\",c)\n",
    "print(\"the type of a is \", type(a))\n",
    "print(\"the type of b is \", type(b))\n",
    "print(\"the type of c is \", type(c))\n",
    "\n"
   ]
  },
  {
   "cell_type": "code",
   "execution_count": 11,
   "id": "286b2e28",
   "metadata": {},
   "outputs": [
    {
     "name": "stdout",
     "output_type": "stream",
     "text": [
      "enter a number : 2.5\n",
      "enter a number : 2.5\n",
      "5.0\n",
      "7\n",
      "-1\n",
      "0.875\n",
      "5764801\n"
     ]
    }
   ],
   "source": [
    "n=float(input(\"enter a number : \"))\n",
    "m=float(input(\"enter a number : \"))\n",
    "print(n+m)\n",
    "print(7%8)\n",
    "print(7-8)\n",
    "print(7/8)\n",
    "print(7**8)#exponential"
   ]
  },
  {
   "cell_type": "code",
   "execution_count": 12,
   "id": "bcbeaf4e",
   "metadata": {},
   "outputs": [
    {
     "name": "stdout",
     "output_type": "stream",
     "text": [
      "enter a number: 5\n",
      "enter a number: 5\n",
      "10\n",
      "enter a number: 5\n",
      "enter a number: 5\n",
      "10\n"
     ]
    }
   ],
   "source": [
    "y=input(\"enter a number: \")\n",
    "x=input(\"enter a number: \")\n",
    "print(int(x)+int(y))\n",
    "#type casting\n",
    "y=int(input(\"enter a number: \"))\n",
    "x=int(input(\"enter a number: \"))\n",
    "print(x+y)"
   ]
  },
  {
   "cell_type": "code",
   "execution_count": 13,
   "id": "b65b0d33",
   "metadata": {},
   "outputs": [
    {
     "name": "stdout",
     "output_type": "stream",
     "text": [
      "h\n",
      "e\n",
      "y\n",
      " \n",
      "h\n",
      "o\n",
      "w\n",
      ",\n",
      "\n",
      "\n",
      "a\n",
      "r\n",
      "e\n",
      " \n",
      "y\n",
      "o\n",
      "u\n",
      " \n",
      "\n",
      "\n",
      "m\n",
      "i\n",
      "s\n",
      "s\n",
      " \n",
      "w\n",
      "h\n",
      "a\n",
      "t\n",
      " \n",
      "a\n",
      " \n",
      "\n",
      "\n",
      "b\n",
      "e\n",
      "a\n",
      "u\n",
      "t\n",
      "i\n",
      "f\n",
      "u\n",
      "l\n",
      " \n",
      "d\n",
      "a\n",
      "y\n"
     ]
    }
   ],
   "source": [
    "name='''hey how,\n",
    "are you \n",
    "miss what a \n",
    "beautiful day'''\n",
    "for character in name:\n",
    "    print(character)\n"
   ]
  },
  {
   "cell_type": "code",
   "execution_count": 14,
   "id": "7f904b47",
   "metadata": {},
   "outputs": [
    {
     "name": "stdout",
     "output_type": "stream",
     "text": [
      "4\n",
      "lal\n",
      "al\n"
     ]
    }
   ],
   "source": [
    "# names=\"ayan=chutiya\"\n",
    "# print(names[0:12])\n",
    "# for character in names :\n",
    "# #     print(character)\n",
    "# slicng\n",
    "student=\"lali\"\n",
    "l=len(student)\n",
    "print(l)\n",
    "print(student[0:len(student)-1])\n",
    "print(student[-3:-1])\n"
   ]
  },
  {
   "cell_type": "code",
   "execution_count": 19,
   "id": "8ddfdf85",
   "metadata": {},
   "outputs": [
    {
     "name": "stdout",
     "output_type": "stream",
     "text": [
      "14\n",
      "HARSH   !!!!!!\n",
      "Harsh   \n",
      "harsh   !!!!!!\n",
      "Harsh   asddj!!\n",
      "['Harsh', '!!!!!!']\n"
     ]
    }
   ],
   "source": [
    "a=\"Harsh   !!!!!!\"\n",
    "print(len(a))\n",
    "print(a.upper())\n",
    "print(a.rstrip(\"!\"))\n",
    "print(a.lower())\n",
    "print(a.replace(\"!!!!\",\"asddj\"))\n",
    "print(a.split())\n",
    "\n",
    "\n",
    "\n"
   ]
  },
  {
   "cell_type": "code",
   "execution_count": 11,
   "id": "5376bcd8",
   "metadata": {},
   "outputs": [
    {
     "name": "stdout",
     "output_type": "stream",
     "text": [
      "16\n",
      "60\n",
      "1\n",
      "True\n",
      "7\n",
      "True\n"
     ]
    }
   ],
   "source": [
    "str1=\"welcometoconsole\"\n",
    "print(len(str1))\n",
    "print(len(str1.center(60)))\n",
    "print(str1.count(\"w\"))\n",
    "print(str1.endswith(\"console\"))\n",
    "print(str1.find(\"to\"))\n",
    "print(str1.isalnum()) #for space"
   ]
  },
  {
   "cell_type": "code",
   "execution_count": 16,
   "id": "cdc1b6f4",
   "metadata": {},
   "outputs": [
    {
     "name": "stdout",
     "output_type": "stream",
     "text": [
      "enter a value :100\n",
      "100 is not 90\n"
     ]
    }
   ],
   "source": [
    "x=int(input(\"enter a value :\"))\n",
    "\n",
    "match x:\n",
    "    case 0:\n",
    "        print(\"x is zero\")\n",
    "    case 4:\n",
    "        print(\"case is 4\")\n",
    "    #default is _\n",
    "    case _ if x!=90:\n",
    "        print(x,\"is not 90\")\n",
    "    case _ if x!=80:\n",
    "        print(x,\"is not 80\")\n",
    "    case _:\n",
    "        print(x)"
   ]
  },
  {
   "cell_type": "code",
   "execution_count": 28,
   "id": "194fa5fc",
   "metadata": {},
   "outputs": [
    {
     "name": "stdout",
     "output_type": "stream",
     "text": [
      "red\n",
      "blue\n",
      "hello\n",
      "yellow\n",
      "green\n"
     ]
    }
   ],
   "source": [
    "nm=[\"red\",\"blue\",\"yellow\",\"green\"]\n",
    "for color in nm:\n",
    "    print(color)\n",
    "    if(color ==\"blue\"):\n",
    "        print(\"hello\")\n",
    "#     for i in color:\n",
    "#         print(i)"
   ]
  },
  {
   "cell_type": "code",
   "execution_count": 33,
   "id": "d26c79ca",
   "metadata": {},
   "outputs": [
    {
     "data": {
      "text/plain": [
       "0"
      ]
     },
     "execution_count": 33,
     "metadata": {},
     "output_type": "execute_result"
    }
   ],
   "source": [
    "import os \n",
    "os.system(\"python --version\")"
   ]
  },
  {
   "cell_type": "code",
   "execution_count": 31,
   "id": "6eb0174a",
   "metadata": {},
   "outputs": [
    {
     "name": "stdout",
     "output_type": "stream",
     "text": [
      "0\n",
      "3\n",
      "6\n",
      "9\n",
      "12\n",
      "15\n",
      "18\n",
      "21\n",
      "24\n",
      "27\n",
      "30\n"
     ]
    }
   ],
   "source": [
    "# for k in range(5):\n",
    "#     print(k)\n",
    "#(starting index, range,gap)\n",
    "for k in range(0,33,3):\n",
    "    print(k)"
   ]
  },
  {
   "cell_type": "code",
   "execution_count": 41,
   "id": "b3ff58ea",
   "metadata": {},
   "outputs": [
    {
     "name": "stdout",
     "output_type": "stream",
     "text": [
      "1\n",
      "5\n",
      "9\n",
      "13\n",
      "17\n"
     ]
    }
   ],
   "source": [
    "for k in range(1,20,4):\n",
    "    print(k)"
   ]
  },
  {
   "cell_type": "code",
   "execution_count": 2,
   "id": "e2d9793c",
   "metadata": {},
   "outputs": [
    {
     "name": "stdout",
     "output_type": "stream",
     "text": [
      "0\n",
      "1\n",
      "2\n",
      "3\n",
      "4\n",
      "5\n",
      "6\n",
      "7\n",
      "8\n",
      "9\n",
      "10\n",
      "11\n",
      "12\n",
      "13\n",
      "14\n",
      "15\n",
      "16\n",
      "17\n",
      "18\n",
      "19\n",
      "20\n",
      "21\n",
      "22\n",
      "23\n",
      "24\n",
      "25\n",
      "26\n",
      "27\n",
      "28\n",
      "29\n",
      "30\n",
      "31\n",
      "32\n",
      "33\n",
      "34\n",
      "35\n",
      "36\n",
      "37\n",
      "38\n",
      "39\n",
      "40\n",
      "41\n",
      "42\n",
      "43\n",
      "44\n"
     ]
    }
   ],
   "source": [
    "i=0\n",
    "while(i<45):\n",
    "    print(i)\n",
    "    i = i+1"
   ]
  },
  {
   "cell_type": "code",
   "execution_count": 3,
   "id": "a5b16cd6",
   "metadata": {},
   "outputs": [
    {
     "name": "stdout",
     "output_type": "stream",
     "text": [
      "enter a number:4\n",
      "4\n",
      "5\n",
      "6\n",
      "7\n",
      "8\n",
      "9\n",
      "10\n",
      "11\n",
      "12\n",
      "13\n"
     ]
    }
   ],
   "source": [
    "i=int(input(\"enter a number:\"))\n",
    "while(i<=13):\n",
    "    print(i)\n",
    "    i = i+1"
   ]
  },
  {
   "cell_type": "code",
   "execution_count": 5,
   "id": "9981a2ba",
   "metadata": {},
   "outputs": [
    {
     "name": "stdout",
     "output_type": "stream",
     "text": [
      "enter a number: 45\n",
      "enter the  number again : 44\n",
      "44\n",
      "enter the  number again : 56\n",
      "56\n",
      "done with the loop\n"
     ]
    }
   ],
   "source": [
    "i=int(input(\"enter a number: \"))\n",
    "while(i<=45):\n",
    "    i=int(input(\"enter the  number again : \"))\n",
    "    print(i)\n",
    "print(\"done with the loop\")    \n",
    "    "
   ]
  },
  {
   "cell_type": "code",
   "execution_count": 4,
   "id": "949113d2",
   "metadata": {},
   "outputs": [
    {
     "name": "stdout",
     "output_type": "stream",
     "text": [
      "5\n",
      "4\n",
      "3\n",
      "end this \n"
     ]
    }
   ],
   "source": [
    "count = 5\n",
    "while(count>2):\n",
    "    print(count)\n",
    "    count=count - 1\n",
    "    \n",
    "else:\n",
    "    print(\"end this \")"
   ]
  },
  {
   "cell_type": "code",
   "execution_count": 10,
   "id": "8eb71bb9",
   "metadata": {},
   "outputs": [
    {
     "name": "stdout",
     "output_type": "stream",
     "text": [
      "This is a programe of generating table of any number \n",
      "enter a number: 5\n",
      "the table of 5 is\n",
      "5 x 1 = 5\n",
      "5 x 2 = 10\n",
      "5 x 3 = 15\n",
      "5 x 4 = 20\n",
      "5 x 5 = 25\n",
      "5 x 6 = 30\n",
      "5 x 7 = 35\n",
      "5 x 8 = 40\n",
      "5 x 9 = 45\n",
      "5 x 10 = 50\n"
     ]
    }
   ],
   "source": [
    "print(\"This is a programe of generating table of any number \")\n",
    "p=int(input(\"enter a number: \"))\n",
    "print(\"the table of\",p,\"is\")\n",
    "for i in range(20):\n",
    "    if(i==10):\n",
    "        break\n",
    "    print( p,\"x\",i+1,\"=\",p*(i+1))"
   ]
  },
  {
   "cell_type": "code",
   "execution_count": 32,
   "id": "ead64c83",
   "metadata": {},
   "outputs": [
    {
     "name": "stdout",
     "output_type": "stream",
     "text": [
      "todays date is : 13-03-2024\n",
      "Good afternoon its : 14:41:29 PM\n"
     ]
    }
   ],
   "source": [
    "from datetime import datetime\n",
    "now = datetime.now()\n",
    "present_date = now.strftime(\"%d-%m-%Y\")\n",
    "print(\"todays date is :\",present_date)\n",
    "present_time = now.strftime(\"%H:%M:%S\")\n",
    "# print(present_time)\n",
    "hour = int(now.strftime(\"%H\"))\n",
    "if(18>hour>=12):\n",
    "    print(\"Good afternoon its :\",present_time,\"PM\")\n",
    "elif(hour>18):\n",
    "    print(\"Good evening its :\",present_time,\"PM\")\n",
    "elif(hour<12):\n",
    "    print(\"Good morning its :\",present_date,\"AM\")  \n",
    "\n",
    "    "
   ]
  },
  {
   "cell_type": "code",
   "execution_count": 134,
   "id": "3d99eb9a",
   "metadata": {},
   "outputs": [
    {
     "name": "stdout",
     "output_type": "stream",
     "text": [
      "enter the no. of row :5\n",
      "     * \n",
      "    * * \n",
      "   * * * \n",
      "  * * * * \n",
      " * * * * * \n"
     ]
    }
   ],
   "source": [
    "row=int(input(\"enter the no. of row :\"))\n",
    "for i in range(row):\n",
    "    for k in range(row-i):\n",
    "        print(\" \", end=\"\")\n",
    "#     for m in range(row-i):\n",
    "#         print(\" \", end=\"\")\n",
    "    for j in range(i+1):\n",
    "        print(\"*\",end=\" \")\n",
    "#     for n in range(i+1):\n",
    "#         print(\"*\", end=\" \")\n",
    "    print()\n",
    "    \n",
    "        "
   ]
  },
  {
   "cell_type": "code",
   "execution_count": 33,
   "id": "6cc0e236",
   "metadata": {},
   "outputs": [
    {
     "name": "stdout",
     "output_type": "stream",
     "text": [
      "0\n",
      "1\n",
      "2\n",
      "3\n",
      "4\n",
      "5\n",
      "6\n",
      "7\n",
      "8\n",
      "9\n",
      "10\n",
      "11\n",
      "12\n",
      "13\n",
      "14\n",
      "15\n",
      "16\n",
      "17\n",
      "18\n"
     ]
    }
   ],
   "source": [
    "i=0\n",
    "while True:\n",
    "    print(i)\n",
    "    i=i+1\n",
    "    if(100%i==5):\n",
    "        break"
   ]
  },
  {
   "cell_type": "code",
   "execution_count": 5,
   "id": "bbdb1464",
   "metadata": {},
   "outputs": [
    {
     "name": "stdout",
     "output_type": "stream",
     "text": [
      "average is 5.0\n"
     ]
    }
   ],
   "source": [
    "def average(*numbers):\n",
    "    sum = 0\n",
    "    for i in numbers:\n",
    "        sum = sum+i\n",
    "    print(\"average is\",sum/len(numbers)) #there will be different values if print comes under sum\n",
    "average(2,5,8)"
   ]
  },
  {
   "cell_type": "code",
   "execution_count": 15,
   "id": "be77f309",
   "metadata": {},
   "outputs": [
    {
     "name": "stdout",
     "output_type": "stream",
     "text": [
      "6.333333333333333\n"
     ]
    }
   ],
   "source": [
    "def average(*numbers):\n",
    "    sum=0\n",
    "    for i in numbers:\n",
    "        sum=sum+i\n",
    "#     return 7\n",
    "    return sum/len(numbers)\n",
    "c=average(5,6,8)\n",
    "print(c)"
   ]
  },
  {
   "cell_type": "code",
   "execution_count": 10,
   "id": "1b652b4c",
   "metadata": {},
   "outputs": [
    {
     "name": "stdout",
     "output_type": "stream",
     "text": [
      "[3, 5, 6, 'harsh', 'raunak']\n",
      "<class 'list'>\n",
      "5\n",
      "harsh\n",
      "present\n"
     ]
    }
   ],
   "source": [
    "marks=[3,5,6,\"harsh\",\"raunak\"]\n",
    "print(marks)\n",
    "print(type(marks))\n",
    "print(len(marks))\n",
    "print(marks[len(marks)-2])\n",
    "# if \"harsh\" in marks:\n",
    "#     print(\"Yes\")\n",
    "# else:\n",
    "#         print(\"No\")\n",
    "\n",
    "#it ALSO WORKS FOR STRINGS FOR EXAMPLE\n",
    "if \"aunak\"in \"raunak\":\n",
    "    print(\"present\")\n",
    "else:\n",
    "    print(\"absent\")"
   ]
  },
  {
   "cell_type": "code",
   "execution_count": 1,
   "id": "719517cd",
   "metadata": {},
   "outputs": [
    {
     "name": "stdout",
     "output_type": "stream",
     "text": [
      "[0, 1, 4, 9, 16, 25, 36, 49, 64, 81]\n"
     ]
    }
   ],
   "source": [
    "# list=[i for i in range(10)]\n",
    "# print(list)\n",
    "list=[i*i for i in range(10)]\n",
    "print(list)"
   ]
  },
  {
   "cell_type": "code",
   "execution_count": 20,
   "id": "e1d35e5a",
   "metadata": {
    "scrolled": true
   },
   "outputs": [
    {
     "name": "stdout",
     "output_type": "stream",
     "text": [
      "[34, 67, 82, 3, 4, 4, 8, 8, 8, 67, 8, 100]\n",
      "[100, 8, 67, 8, 8, 8, 4, 4, 3, 82, 67, 34]\n",
      "[3, 4, 4, 8, 8, 8, 8, 34, 67, 67, 82, 100]\n",
      "[100, 82, 67, 67, 34, 8, 8, 8, 8, 4, 4, 3]\n",
      "5\n",
      "4\n",
      "[100, 82, 67, 67, 34, 8, 8, 8, 8, 4, 4, 3]\n",
      "[100, 82, 788, 67, 67, 34, 8, 8, 8, 8, 4, 4, 3]\n",
      "[100, 82, 788, 67, 67, 34, 8, 8, 8, 8, 4, 4, 3, 1000, 1001, 1002]\n"
     ]
    }
   ],
   "source": [
    "l=[34,67,82,3,4,4,8,8,8,67,8]\n",
    "l.append(100)\n",
    "print(l)\n",
    "\n",
    "l.reverse()\n",
    "print(l)\n",
    "\n",
    "l.sort()\n",
    "print(l)\n",
    "\n",
    "l.sort(reverse=True)\n",
    "print(l)\n",
    "\n",
    "print(l.index(8))\n",
    "\n",
    "print(l.count(8))\n",
    "\n",
    "new_l=l\n",
    "print(new_l)\n",
    "\n",
    "l.insert(2,788)\n",
    "print(l)\n",
    "\n",
    "# m=[1000,1001,1002]\n",
    "# l.extend(m)\n",
    "# print(l)\n",
    "\n",
    "m=[1000,1001,1002]\n",
    "k = l+m\n",
    "print(k)\n",
    "\n",
    "\n"
   ]
  },
  {
   "cell_type": "code",
   "execution_count": 30,
   "id": "7d0e900a",
   "metadata": {},
   "outputs": [
    {
     "name": "stdout",
     "output_type": "stream",
     "text": [
      "<class 'tuple'> (3, 5, 9, 10, True, 'harsh', 'raunak')\n",
      "3\n",
      "9\n",
      "10\n",
      "(3, 5, 9, 10)\n",
      "yes\n",
      "(5, 9, 10)\n"
     ]
    }
   ],
   "source": [
    "tuple = (3,5,9,10,True,\"harsh\",\"raunak\")\n",
    "print(type(tuple),tuple)\n",
    "print(tuple[0])\n",
    "print(tuple[2])\n",
    "print(tuple[3])\n",
    "print(tuple[:4])\n",
    "if \"rsh\" in \"harsh\":\n",
    "    print(\"yes\")\n",
    "t=tuple[1:4]\n",
    "print(t)"
   ]
  },
  {
   "cell_type": "code",
   "execution_count": 7,
   "id": "aafe8e69",
   "metadata": {},
   "outputs": [
    {
     "name": "stdout",
     "output_type": "stream",
     "text": [
      "('Spain', 'Bharat', 'Holland', 'Germany', 'China')\n",
      "2\n"
     ]
    }
   ],
   "source": [
    "countries = (\"Spain\",\"Bharat\",\"UK\",\"USA\",\"Germany\")\n",
    "temp=list(countries)\n",
    "temp.append(\"China\")\n",
    "temp.pop(3)\n",
    "temp[2]=\"Holland\"\n",
    "countries=tuple(temp)\n",
    "print(countries)\n",
    "res= countries.index(\"Holland\",1,4)\n",
    "print(res)"
   ]
  },
  {
   "cell_type": "code",
   "execution_count": 10,
   "id": "8b812e94",
   "metadata": {},
   "outputs": [
    {
     "name": "stdout",
     "output_type": "stream",
     "text": [
      "25\n",
      "this is a program of doc string\n"
     ]
    }
   ],
   "source": [
    "def square(n):\n",
    "    '''this is a program of doc string'''\n",
    "    print(n**2)\n",
    "square(5)\n",
    "print(square.__doc__)"
   ]
  },
  {
   "cell_type": "code",
   "execution_count": 61,
   "id": "36cd27e6",
   "metadata": {},
   "outputs": [
    {
     "name": "stdout",
     "output_type": "stream",
     "text": [
      "enter a number6\n",
      "the factorial of 6 is:  720\n"
     ]
    }
   ],
   "source": [
    "n = int(input(\"enter a number\"))\n",
    "def factorial(n):\n",
    "    if(n==0 or n==1):\n",
    "        return 1\n",
    "    else:\n",
    "        return n *factorial(n-1)\n",
    "print(\"the factorial of\",n,\"is: \",factorial(n))"
   ]
  },
  {
   "cell_type": "code",
   "execution_count": 2,
   "id": "5ac58981",
   "metadata": {},
   "outputs": [
    {
     "name": "stdout",
     "output_type": "stream",
     "text": [
      "enter a number: 6\n",
      "5\n"
     ]
    }
   ],
   "source": [
    "n=int(input(\"enter a number: \"))\n",
    "def fibonacci(n):\n",
    "    if(n<=0):\n",
    "        print(\"incorrect\")\n",
    "    elif(n==1):\n",
    "        return 0\n",
    "    elif(n==2):\n",
    "        return 1\n",
    "    else:\n",
    "        return fibonacci(n-1)+fibonacci(n-2)\n",
    "print(fibonacci(n))"
   ]
  },
  {
   "cell_type": "code",
   "execution_count": 66,
   "id": "ef0ba832",
   "metadata": {},
   "outputs": [
    {
     "name": "stdout",
     "output_type": "stream",
     "text": [
      "{'harsh'}\n",
      "harsh\n",
      "h\n",
      "a\n",
      "r\n",
      "s\n",
      "h\n",
      "<class 'set'>\n"
     ]
    }
   ],
   "source": [
    "s={\"harsh\",3,4.7,True}\n",
    "print(s)\n",
    "for value in s:\n",
    "    print(value)\n",
    "#     for i in value:\n",
    "#         print(i)\n",
    "info={2,3}\n",
    "print(type(info))\n",
    "# for list we use [] square bracket, for tuple we use (),and for set we use {}"
   ]
  },
  {
   "cell_type": "code",
   "execution_count": 57,
   "id": "1a23cc79",
   "metadata": {},
   "outputs": [
    {
     "name": "stdout",
     "output_type": "stream",
     "text": [
      "{4, 5}\n",
      "{1, 2, 4, 5}\n",
      "None {1, 2, 4, 5}\n"
     ]
    }
   ],
   "source": [
    "s1={1,2,3}\n",
    "s2={3,4,5}\n",
    "# print(s1.union(s2))\n",
    "# s1.update(s2)\n",
    "# print(s1,s2)\n",
    "s3=s2.difference(s1)\n",
    "print(s3)\n",
    "s3=s1.symmetric_difference(s2)\n",
    "print(s3)\n",
    "s3=s1.symmetric_difference_update(s2)\n",
    "print(s3,s1)\n",
    "#del is used to delete the set\n",
    "#difference btw discard and remove( ) is when an element is not present in the set and we use remove it will show error and \n",
    "#if we use discard ven when item is not present in the set then also it will not throw the error\n",
    "# pop will remove a random element from the set and we can print the pop as well"
   ]
  },
  {
   "cell_type": "code",
   "execution_count": 28,
   "id": "65cd839e",
   "metadata": {},
   "outputs": [
    {
     "name": "stdout",
     "output_type": "stream",
     "text": [
      "yashraj ghuswah\n"
     ]
    }
   ],
   "source": [
    "dic={\n",
    "    344: \"drishti\",\n",
    "    6: \"yashraj ghuswah\",\n",
    "    69: \"awasthi\",\n",
    "}\n",
    "print(dic[6]) "
   ]
  },
  {
   "cell_type": "code",
   "execution_count": 50,
   "id": "d26fa3ca",
   "metadata": {},
   "outputs": [
    {
     "name": "stdout",
     "output_type": "stream",
     "text": [
      "{'name': 'harsh', 'age': 19}\n",
      "dict_keys(['name', 'age'])\n",
      "dict_values(['harsh', 19])\n",
      "dict_items([('name', 'harsh'), ('age', 19)])\n",
      "the value of name is harsh\n",
      "the value of age is 19\n",
      "the values corresponding to name is harsh\n",
      "the values corresponding to age is 19\n"
     ]
    }
   ],
   "source": [
    "info={'name':\"harsh\",'age':19}\n",
    "print(info)\n",
    "print(info.keys())\n",
    "print(info.values())\n",
    "print(info.items())\n",
    "for key in info.keys():\n",
    "    print(f\"the value of {key} is {info[key]}\")\n",
    "for key,value in info.items():\n",
    "    print(f\"the values corresponding to {key} is {value}\")"
   ]
  },
  {
   "cell_type": "code",
   "execution_count": 63,
   "id": "8f2a1e09",
   "metadata": {},
   "outputs": [
    {
     "name": "stdout",
     "output_type": "stream",
     "text": [
      "{22: 3, 44: 5, 34: 99, 29: 8}\n",
      "{44: 5, 34: 99, 29: 8}\n"
     ]
    }
   ],
   "source": [
    "ep1={22:3,44:5}\n",
    "ep2={34:99,29:8}\n",
    "ep1.update(ep2)\n",
    "print(ep1)\n",
    "# ep1.popitem() #JUST IN ORDER TO REMOVE LAST ELMENT OF THE DICTIONARY\n",
    "ep1.pop(22)\n",
    "print(ep1)\n"
   ]
  },
  {
   "cell_type": "code",
   "execution_count": 4,
   "id": "d297c20b",
   "metadata": {},
   "outputs": [
    {
     "name": "stdout",
     "output_type": "stream",
     "text": [
      "enter a number:5\n",
      "1 <class 'list'>\n",
      "index error\n",
      "i will always execute\n",
      "0\n"
     ]
    }
   ],
   "source": [
    "# a=input(\"enter a number:\")\n",
    "# print(f\"multiplication table of {a} is\")\n",
    "# try:\n",
    "#     for i in range(1,11):\n",
    "#         print(f\"{int(a)} X{i}={int(a)*i}\")\n",
    "# except:\n",
    "#     print(\"invalid syntax\")\n",
    "# print(\"qwerty\")      \n",
    "\n",
    "def funcx():\n",
    "    try:\n",
    "        n=int(input(\"enter a number:\"))\n",
    "        a=[56]\n",
    "        print(len(a),type(a))\n",
    "        print(a[n])\n",
    "        return 1\n",
    "    except ValueError:\n",
    "        print(\"value error\")\n",
    "        return 0\n",
    "    except IndexError:\n",
    "        print(\"index error\")\n",
    "        return 0\n",
    "    #their will be multiple error \n",
    "#     finally:\n",
    "#         print(\"i will always execute\")       #difference btw print and final is when we define a function print will not execute \n",
    "x=funcx()\n",
    "print(x)"
   ]
  },
  {
   "cell_type": "code",
   "execution_count": 2,
   "id": "1e60d083",
   "metadata": {},
   "outputs": [
    {
     "name": "stdout",
     "output_type": "stream",
     "text": [
      "enter a number :999\n"
     ]
    },
    {
     "ename": "ValueError",
     "evalue": "invalid value",
     "output_type": "error",
     "traceback": [
      "\u001b[1;31m---------------------------------------------------------------------------\u001b[0m",
      "\u001b[1;31mValueError\u001b[0m                                Traceback (most recent call last)",
      "Cell \u001b[1;32mIn[2], line 3\u001b[0m\n\u001b[0;32m      1\u001b[0m a\u001b[38;5;241m=\u001b[39m\u001b[38;5;28mint\u001b[39m(\u001b[38;5;28minput\u001b[39m(\u001b[38;5;124m\"\u001b[39m\u001b[38;5;124menter a number :\u001b[39m\u001b[38;5;124m\"\u001b[39m))\n\u001b[0;32m      2\u001b[0m \u001b[38;5;28;01mif\u001b[39;00m(a\u001b[38;5;241m<\u001b[39m\u001b[38;5;241m10\u001b[39m \u001b[38;5;129;01mor\u001b[39;00m a\u001b[38;5;241m>\u001b[39m\u001b[38;5;241m100\u001b[39m):\n\u001b[1;32m----> 3\u001b[0m     \u001b[38;5;28;01mraise\u001b[39;00m \u001b[38;5;167;01mValueError\u001b[39;00m(\u001b[38;5;124m\"\u001b[39m\u001b[38;5;124minvalid value\u001b[39m\u001b[38;5;124m\"\u001b[39m)\n",
      "\u001b[1;31mValueError\u001b[0m: invalid value"
     ]
    }
   ],
   "source": [
    "a=int(input(\"enter a number :\"))\n",
    "if(a<10 or a>100):\n",
    "    raise ValueError(\"invalid value\")"
   ]
  },
  {
   "cell_type": "code",
   "execution_count": 12,
   "id": "cfa3376a",
   "metadata": {},
   "outputs": [
    {
     "name": "stdout",
     "output_type": "stream",
     "text": [
      "enter the no. of rows:5\n",
      "     * * * * * * * * * * \n",
      "      * * * * * * * * * * * * \n",
      "       * * * * * * * * * * * * \n",
      "        * * * * * * * * * * \n",
      "         * * * * * * \n"
     ]
    }
   ],
   "source": [
    "# row=int(input(\"enter the no. of rows:\"))\n",
    "# for i in range(row):\n",
    "#     for k in range(row+i):\n",
    "#         print(\" \", end=\"\")\n",
    "#         while(k==2(row)-1):\n",
    "#             for f in range(row+i):\n",
    "#                 print(\"\", end=\"\")\n",
    "#     for j in range(i,row,1):\n",
    "#         print(\"*\", end=\" \")\n",
    "# #         while(j==row):\n",
    "# #             for m in range(i-1):\n",
    "# #                 print(\"*\", end=\" \")\n",
    "#     print()"
   ]
  },
  {
   "cell_type": "code",
   "execution_count": 9,
   "id": "405aaaff",
   "metadata": {
    "scrolled": true
   },
   "outputs": [
    {
     "name": "stdout",
     "output_type": "stream",
     "text": [
      "enter number of rows :6\n",
      "      * * * * * * \n",
      "       * * * * * \n",
      "        * * * * \n",
      "         * * * \n",
      "          * * \n",
      "           * \n",
      "           * \n",
      "          * * \n",
      "         * * * \n",
      "        * * * * \n",
      "       * * * * * \n",
      "      * * * * * * \n"
     ]
    }
   ],
   "source": [
    "row=int(input(\"enter number of rows :\"))\n",
    "for i in range(row):\n",
    "    for k in range(row+i):\n",
    "        print(\" \", end=\"\")\n",
    "    for j in range(i,row):\n",
    "        print(\"*\", end=\" \")\n",
    "    print()\n",
    "for p in range(row): \n",
    "    for l in range((row+row)-(p+1)):\n",
    "        print(\" \", end=\"\")\n",
    "    for m in range(p+1):\n",
    "        print(\"*\", end=\" \")\n",
    "    print()"
   ]
  },
  {
   "cell_type": "code",
   "execution_count": 8,
   "id": "c45c9a4a",
   "metadata": {},
   "outputs": [
    {
     "name": "stdout",
     "output_type": "stream",
     "text": [
      "enter number of rows =5\n",
      "*                 * \n",
      "* *             * * \n",
      "* * *         * * * \n",
      "* * * *     * * * * \n",
      "* * * * * * * * * * \n",
      "* * * * * * * * * * \n",
      "* * * *     * * * * \n",
      "* * *         * * * \n",
      "* *             * * \n",
      "*                 * \n"
     ]
    }
   ],
   "source": [
    "\n",
    "row=int(input(\"enter number of rows =\"))\n",
    "for i in range(row):\n",
    "#     for k in range(row):\n",
    "#         print(\"\", end=\"\")\n",
    "    for j in range(i+1):\n",
    "        print(\"*\", end=\" \")\n",
    "    for k in range((2*row)-(2*(i+1))):\n",
    "        print(\" \" , end=\" \")\n",
    "    for j in range(i+1):\n",
    "        print(\"*\",end=\" \")\n",
    "    print()\n",
    "    \n",
    "for a in range(row):\n",
    "#     for b in range(row):\n",
    "#         print(\"\", end=\"\")\n",
    "    for c in range(row-a):\n",
    "        print(\"*\", end=\" \")\n",
    "    for f in range(2*a):\n",
    "        print(\" \" , end=\" \")\n",
    "    for j in range(row-a):\n",
    "        print(\"*\",end=\" \")\n",
    "    print()\n",
    "    "
   ]
  },
  {
   "cell_type": "code",
   "execution_count": 1,
   "id": "440f68f0",
   "metadata": {},
   "outputs": [
    {
     "name": "stdout",
     "output_type": "stream",
     "text": [
      "Enter the number of rows:6\n",
      "*                     * \n",
      "* *                 * * \n",
      "* * *             * * * \n",
      "* * * *         * * * * \n",
      "* * * * *     * * * * * \n",
      "* * * * * * * * * * * * \n",
      "* * * * * * * * * * * * \n",
      "* * * * *     * * * * * \n",
      "* * * *         * * * * \n",
      "* * *             * * * \n",
      "* *                 * * \n",
      "*                     * \n"
     ]
    }
   ],
   "source": [
    "row =int(input(\"Enter the number of rows:\"))\n",
    "for i in range(row):\n",
    "    for j in range(i+1):\n",
    "        print(\"*\", end=\" \")\n",
    "    for k in range((2*row)-(2*(i+1))):\n",
    "          print(\" \" , end=\" \")\n",
    "    for j in range(i+1):\n",
    "        print(\"*\",end=\" \")\n",
    "    print()\n",
    "\n",
    "        \n",
    "for a in range(row):\n",
    "#     for b in range(row):\n",
    "#         print(\"\", end=\"\")\n",
    "    for c in range(row-a):\n",
    "        print(\"*\", end=\" \")\n",
    "    for f in range(2*a):\n",
    "        print(\" \" , end=\" \")\n",
    "    for j in range(row-a):\n",
    "        print(\"*\",end=\" \")\n",
    "    print()\n",
    "    \n",
    "        \n",
    "        \n",
    "        "
   ]
  },
  {
   "cell_type": "code",
   "execution_count": 6,
   "id": "ee927c83",
   "metadata": {},
   "outputs": [
    {
     "name": "stdout",
     "output_type": "stream",
     "text": [
      "12\n",
      "23\n",
      "45\n",
      "67\n",
      "89\n",
      "98\n",
      "nice grade \n",
      "76\n"
     ]
    }
   ],
   "source": [
    "marks=[12,23,45,67,89,98,76]\n",
    "for index,mark in enumerate(marks,start=1):\n",
    "    print(mark)\n",
    "    if(mark==98):\n",
    "        print(\"nice grade \")\n",
    "        \n",
    "    "
   ]
  },
  {
   "cell_type": "code",
   "execution_count": 6,
   "id": "58255bbd",
   "metadata": {},
   "outputs": [
    {
     "name": "stdout",
     "output_type": "stream",
     "text": [
      "enter a number =5\n",
      "*                 * \n",
      "* *             * * \n",
      "* * *         * * * \n",
      "* * * *     * * * * \n",
      "* * * * * * * * * * \n",
      "* * * * * * * * * * \n",
      "* * * *     * * * * \n",
      "* * *         * * * \n",
      "* *             * * \n",
      "*                 * \n"
     ]
    }
   ],
   "source": [
    "row=int(input(\"enter a number =\"))\n",
    "for i in range(row):\n",
    "    for j in range(i+1):\n",
    "        print(\"*\",end=\" \")\n",
    "    for k in range((2*row)-(2*(i+1))):\n",
    "        print(\" \",end=\" \")\n",
    "    for l in range(i+1):\n",
    "        print(\"*\",end=\" \")\n",
    "    print()\n",
    "for a in range(row):\n",
    "    for b in range(row-a):\n",
    "        print(\"*\",end=\" \")\n",
    "    for c in range((2*(a+1)-2)):\n",
    "        print(\" \",end=\" \")\n",
    "    for d in range(row-a):\n",
    "        print(\"*\",end=\" \")\n",
    "    print()"
   ]
  },
  {
   "cell_type": "code",
   "execution_count": null,
   "id": "30f90071",
   "metadata": {},
   "outputs": [],
   "source": []
  }
 ],
 "metadata": {
  "kernelspec": {
   "display_name": "Python 3 (ipykernel)",
   "language": "python",
   "name": "python3"
  },
  "language_info": {
   "codemirror_mode": {
    "name": "ipython",
    "version": 3
   },
   "file_extension": ".py",
   "mimetype": "text/x-python",
   "name": "python",
   "nbconvert_exporter": "python",
   "pygments_lexer": "ipython3",
   "version": "3.11.4"
  }
 },
 "nbformat": 4,
 "nbformat_minor": 5
}
